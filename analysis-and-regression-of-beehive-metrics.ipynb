{
 "cells": [
  {
   "cell_type": "code",
   "execution_count": 1,
   "metadata": {
    "_cell_guid": "b1076dfc-b9ad-4769-8c92-a6c4dae69d19",
    "_uuid": "8f2839f25d086af736a60e9eeb907d3b93b6e0e5"
   },
   "outputs": [],
   "source": [
    "#This Kernal is still a work in progress\n",
    "\n",
    "import numpy as np # linear algebra\n",
    "import pandas as pd # data processing, CSV file I/O (e.g. pd.read_csv)\n",
    "import matplotlib.pyplot as plt\n",
    "import os\n"
   ]
  },
  {
   "cell_type": "code",
   "execution_count": 2,
   "metadata": {
    "_cell_guid": "79c7e3d0-c299-4dcb-8224-4455121ee9b0",
    "_uuid": "d629ff2d2480ee46fbb7e2d37f6b5fab8052498a"
   },
   "outputs": [
    {
     "name": "stdout",
     "output_type": "stream",
     "text": [
      "             timestamp  flow\n",
      "0  2017-01-01 05:15:00     0\n",
      "1  2017-01-01 05:16:00     0\n",
      "2  2017-01-01 05:17:00     0\n",
      "3  2017-01-01 05:18:00     0\n",
      "4  2017-01-01 05:19:00     0\n",
      "             timestamp   humidity\n",
      "0  2017-01-01 05:00:00  92.406667\n",
      "1  2017-01-01 06:00:00  92.270000\n",
      "2  2017-01-01 07:00:00  92.575000\n",
      "3  2017-01-01 08:00:00  92.840000\n",
      "4  2017-01-01 09:00:00  93.640000\n",
      "             timestamp  temperature\n",
      "0  2017-01-01 05:00:00    -1.911244\n",
      "1  2017-01-01 06:00:00    -1.866717\n",
      "2  2017-01-01 07:00:00    -2.077833\n",
      "3  2017-01-01 08:00:00    -2.327167\n",
      "4  2017-01-01 09:00:00    -2.791233\n",
      "             timestamp   weight\n",
      "0  2017-01-01 05:15:00  52.6974\n",
      "1  2017-01-01 05:16:00  52.6974\n",
      "2  2017-01-01 05:17:00  52.6974\n",
      "3  2017-01-01 05:18:00  52.6974\n",
      "4  2017-01-01 05:19:00  52.6973\n"
     ]
    }
   ],
   "source": [
    "flow = pd.read_csv(\"../input/flow_2017.csv\")\n",
    "humid = pd.read_csv(\"../input/humidity_2017.csv\")\n",
    "temp = pd.read_csv(\"../input/temperature_2017.csv\")\n",
    "weight = pd.read_csv(\"../input/weight_2017.csv\")\n",
    "\n",
    "print(flow.head())\n",
    "print(humid.head())\n",
    "print(temp.head())\n",
    "print(weight.head())\n",
    "\n"
   ]
  },
  {
   "cell_type": "code",
   "execution_count": 3,
   "metadata": {},
   "outputs": [
    {
     "name": "stdout",
     "output_type": "stream",
     "text": [
      "1048220\n",
      "8737\n",
      "401866\n",
      "524110\n"
     ]
    }
   ],
   "source": [
    "timestamp = flow['timestamp']\n",
    "flow_1 = flow['flow']\n",
    "humid_1 = humid['humidity']\n",
    "temp_1 = temp['temperature']\n",
    "weight_1 = weight['weight']\n",
    "\n",
    "print(flow_1.count())\n",
    "print(humid_1.count())\n",
    "print(temp_1.count())\n",
    "print(weight_1.count())\n",
    "\n",
    "finaldf = pd.concat([flow_1, humid_1, temp_1, weight_1], axis=1, join='inner').sort_index()\n"
   ]
  },
  {
   "cell_type": "code",
   "execution_count": 4,
   "metadata": {},
   "outputs": [
    {
     "data": {
      "text/plain": [
       "<matplotlib.axes._subplots.AxesSubplot at 0x7fec97761ac8>"
      ]
     },
     "execution_count": 4,
     "metadata": {},
     "output_type": "execute_result"
    },
    {
     "data": {
      "image/png": "[encoded data removed]",
      "text/plain": [
       "<Figure size 1440x720 with 2 Axes>"
      ]
     },
     "metadata": {},
     "output_type": "display_data"
    }
   ],
   "source": [
    "#Correlation Map\n",
    "\n",
    "import seaborn as sns\n",
    "corr_mat = finaldf.corr(method='pearson')\n",
    "plt.figure(figsize=(20,10))\n",
    "sns.heatmap(corr_mat,vmax=1,square=True,annot=True,cmap='cubehelix')"
   ]
  },
  {
   "cell_type": "markdown",
   "metadata": {},
   "source": [
    "Regression of flow and humidity, temperature, weight"
   ]
  },
  {
   "cell_type": "code",
   "execution_count": 5,
   "metadata": {},
   "outputs": [
    {
     "name": "stdout",
     "output_type": "stream",
     "text": [
      "                sum_sq      df         F    PR(>F)\n",
      "humidity      0.057023     1.0  7.392333  0.006563\n",
      "temperature   0.018071     1.0  2.342661  0.125911\n",
      "weight        0.040979     1.0  5.312442  0.021197\n",
      "Residual     67.364194  8733.0       NaN       NaN\n",
      "\n",
      " 0.759356687419878\n"
     ]
    }
   ],
   "source": [
    "import statsmodels.api as sm\n",
    "from statsmodels.formula.api import ols\n",
    "\n",
    "model_lm = ols('flow ~ humidity + temperature + weight', \n",
    "               data = finaldf).fit()\n",
    "aov_table = sm.stats.anova_lm(model_lm, typ=2)\n",
    "print(aov_table)\n",
    "\n",
    "esq_sm = aov_table['sum_sq'][0]/(aov_table['sum_sq'][0]+aov_table['sum_sq'][1])\n",
    "print('\\n',esq_sm)\n",
    "\n"
   ]
  },
  {
   "cell_type": "code",
   "execution_count": 6,
   "metadata": {},
   "outputs": [
    {
     "name": "stdout",
     "output_type": "stream",
     "text": [
      "          humidity  temperature       weight\n",
      "count  8737.000000  8737.000000  8737.000000\n",
      "mean     74.897176    16.506131    52.565870\n",
      "std      15.596232    10.510292     0.376954\n",
      "min     -66.710000    -6.607883    47.127900\n",
      "25%      61.863167     7.206083    52.570100\n",
      "50%      79.757667    16.540000    52.633200\n",
      "75%      87.646667    25.171167    52.666900\n",
      "max      99.651667    35.733333    52.953200\n",
      "\n",
      " count    8737.000000\n",
      "mean       -0.007783\n",
      "std         0.087882\n",
      "min        -1.000000\n",
      "25%         0.000000\n",
      "50%         0.000000\n",
      "75%         0.000000\n",
      "max         0.000000\n",
      "Name: flow, dtype: float64\n",
      "                            OLS Regression Results                            \n",
      "==============================================================================\n",
      "Dep. Variable:                   flow   R-squared:                       0.009\n",
      "Model:                            OLS   Adj. R-squared:                  0.008\n",
      "Method:                 Least Squares   F-statistic:                     25.29\n",
      "Date:                Wed, 08 May 2019   Prob (F-statistic):           2.77e-16\n",
      "Time:                        14:30:18   Log-Likelihood:                 8853.1\n",
      "No. Observations:                8737   AIC:                        -1.770e+04\n",
      "Df Residuals:                    8734   BIC:                        -1.768e+04\n",
      "Df Model:                           3                                         \n",
      "Covariance Type:            nonrobust                                         \n",
      "===============================================================================\n",
      "                  coef    std err          t      P>|t|      [0.025      0.975]\n",
      "-------------------------------------------------------------------------------\n",
      "humidity        0.0003   9.87e-05      2.686      0.007    7.17e-05       0.000\n",
      "temperature     0.0003      0.000      1.766      0.077   -2.87e-05       0.001\n",
      "weight         -0.0006      0.000     -3.364      0.001      -0.001      -0.000\n",
      "==============================================================================\n",
      "Omnibus:                    14258.457   Durbin-Watson:                   1.958\n",
      "Prob(Omnibus):                  0.000   Jarque-Bera (JB):          5714752.563\n",
      "Skew:                         -11.188   Prob(JB):                         0.00\n",
      "Kurtosis:                     126.278   Cond. No.                         24.4\n",
      "==============================================================================\n",
      "\n",
      "Warnings:\n",
      "[1] Standard Errors assume that the covariance matrix of the errors is correctly specified.\n",
      "humidity       0.000265\n",
      "temperature    0.000260\n",
      "weight        -0.000607\n",
      "dtype: float64\n"
     ]
    }
   ],
   "source": [
    "X = finaldf[[\"humidity\",\"temperature\",\"weight\"]].head(8737)\n",
    "y = flow_1.head(8737)\n",
    "print(X.describe())\n",
    "print('\\n', y.describe())\n",
    "\n",
    "\n",
    "model = sm.OLS(y,X).fit()\n",
    "\n",
    "pred = model.predict(X)\n",
    "\n",
    "print(model.summary())\n",
    "print(model.params)"
   ]
  },
  {
   "cell_type": "code",
   "execution_count": 7,
   "metadata": {},
   "outputs": [
    {
     "name": "stdout",
     "output_type": "stream",
     "text": [
      "[[0.00753854 0.99246146]\n",
      " [0.00755889 0.99244111]\n",
      " [0.00753756 0.99246244]\n",
      " ...\n",
      " [0.00532375 0.99467625]\n",
      " [0.00521269 0.99478731]\n",
      " [0.00529305 0.99470695]]\n",
      "0.9922170081263592\n"
     ]
    }
   ],
   "source": [
    "import sklearn\n",
    "from sklearn.feature_selection import chi2\n",
    "from sklearn.linear_model import LogisticRegression\n",
    "\n",
    "#Logistic Regression of Flow \n",
    "clf = LogisticRegression(random_state=0, solver='lbfgs',multi_class='multinomial').fit(X, y)\n",
    "print(clf.predict_proba(X))\n",
    "print(clf.score(X, y))"
   ]
  },
  {
   "cell_type": "code",
   "execution_count": 8,
   "metadata": {},
   "outputs": [
    {
     "name": "stdout",
     "output_type": "stream",
     "text": [
      "BayesianRidge(alpha_1=1e-06, alpha_2=1e-06, compute_score=False, copy_X=True,\n",
      "       fit_intercept=True, lambda_1=1e-06, lambda_2=1e-06, n_iter=300,\n",
      "       normalize=False, tol=0.001, verbose=False)\n",
      "[-0.00722848 -0.00725476 -0.00722418 ... -0.00562708 -0.00535467\n",
      " -0.00550375]\n"
     ]
    }
   ],
   "source": [
    "#Bayesian\n",
    "clf2 = sklearn.linear_model.BayesianRidge()\n",
    "print(clf2.fit(X,y))\n",
    "print(clf2.predict(X))"
   ]
  },
  {
   "cell_type": "code",
   "execution_count": 9,
   "metadata": {},
   "outputs": [
    {
     "name": "stdout",
     "output_type": "stream",
     "text": [
      "(array([4.88190466, 0.34378546, 5.40884345]), array([0.0271655 , 0.55766744, 0.02005776]))\n"
     ]
    }
   ],
   "source": [
    "print(sklearn.feature_selection.f_regression(X, y))"
   ]
  },
  {
   "cell_type": "markdown",
   "metadata": {},
   "source": [
    "Regression of weight,humidity,and temperature"
   ]
  },
  {
   "cell_type": "code",
   "execution_count": 10,
   "metadata": {},
   "outputs": [
    {
     "name": "stdout",
     "output_type": "stream",
     "text": [
      "          humidity  temperature\n",
      "count  8737.000000  8737.000000\n",
      "mean     74.897176    16.506131\n",
      "std      15.596232    10.510292\n",
      "min     -66.710000    -6.607883\n",
      "25%      61.863167     7.206083\n",
      "50%      79.757667    16.540000\n",
      "75%      87.646667    25.171167\n",
      "max      99.651667    35.733333\n",
      "\n",
      " count    8737.000000\n",
      "mean       52.565870\n",
      "std         0.376954\n",
      "min        47.127900\n",
      "25%        52.570100\n",
      "50%        52.633200\n",
      "75%        52.666900\n",
      "max        52.953200\n",
      "Name: weight, dtype: float64\n",
      "\n",
      " Regression of Weight\n",
      "                            OLS Regression Results                            \n",
      "==============================================================================\n",
      "Dep. Variable:                 weight   R-squared:                       0.990\n",
      "Model:                            OLS   Adj. R-squared:                  0.990\n",
      "Method:                 Least Squares   F-statistic:                 4.410e+05\n",
      "Date:                Wed, 08 May 2019   Prob (F-statistic):               0.00\n",
      "Time:                        14:30:18   Log-Likelihood:                -26811.\n",
      "No. Observations:                8737   AIC:                         5.363e+04\n",
      "Df Residuals:                    8735   BIC:                         5.364e+04\n",
      "Df Model:                           2                                         \n",
      "Covariance Type:            nonrobust                                         \n",
      "===============================================================================\n",
      "                  coef    std err          t      P>|t|      [0.025      0.975]\n",
      "-------------------------------------------------------------------------------\n",
      "humidity        0.5375      0.001    497.218      0.000       0.535       0.540\n",
      "temperature     0.7145      0.004    169.065      0.000       0.706       0.723\n",
      "==============================================================================\n",
      "Omnibus:                     1398.657   Durbin-Watson:                   0.089\n",
      "Prob(Omnibus):                  0.000   Jarque-Bera (JB):            16635.752\n",
      "Skew:                          -0.388   Prob(JB):                         0.00\n",
      "Kurtosis:                       9.715   Cond. No.                         6.02\n",
      "==============================================================================\n",
      "\n",
      "Warnings:\n",
      "[1] Standard Errors assume that the covariance matrix of the errors is correctly specified.\n",
      "humidity       0.537485\n",
      "temperature    0.714509\n",
      "dtype: float64\n",
      "\n",
      "\n",
      "ANOVA\n",
      "                  sum_sq      df           F        PR(>F)\n",
      "humidity        3.985581     1.0   29.005252  7.405876e-08\n",
      "temperature    28.190247     1.0  205.155820  5.187733e-46\n",
      "Residual     1200.129835  8734.0         NaN           NaN\n",
      "\n",
      " 0.12386880413950661\n"
     ]
    }
   ],
   "source": [
    "import seaborn as sns\n",
    "X = finaldf[[\"humidity\",\"temperature\"]].head(8737)\n",
    "y = weight_1.head(8737)\n",
    "print(X.describe())\n",
    "print('\\n', y.describe())\n",
    "\n",
    "\n",
    "print(\"\\n Regression of Weight\")\n",
    "model = sm.OLS(y,X).fit()\n",
    "\n",
    "pred = model.predict(X)\n",
    "\n",
    "print(model.summary())\n",
    "print(model.params)\n",
    "\n",
    "print(\"\\n\")\n",
    "\n",
    "print(\"ANOVA\")\n",
    "model_lm = ols('weight ~ humidity + temperature', \n",
    "               data = finaldf).fit()\n",
    "\n",
    "aov_table = sm.stats.anova_lm(model_lm, typ=2)\n",
    "print(aov_table)\n",
    "\n",
    "esq_sm = aov_table['sum_sq'][0]/(aov_table['sum_sq'][0]+aov_table['sum_sq'][1])\n",
    "print('\\n',esq_sm)\n",
    "\n"
   ]
  }
 ],
 "metadata": {
  "kernelspec": {
   "display_name": "Python 3",
   "language": "python",
   "name": "python3"
  },
  "language_info": {
   "codemirror_mode": {
    "name": "ipython",
    "version": 3
   },
   "file_extension": ".py",
   "mimetype": "text/x-python",
   "name": "python",
   "nbconvert_exporter": "python",
   "pygments_lexer": "ipython3",
   "version": "3.6.4"
  }
 },
 "nbformat": 4,
 "nbformat_minor": 1
}
